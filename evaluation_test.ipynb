{
 "cells": [
  {
   "cell_type": "code",
   "execution_count": 11,
   "metadata": {},
   "outputs": [],
   "source": [
    "from data_handling import joint_iterator_from_file\n",
    "it = joint_iterator_from_file(\"data/train\", time_major=False)"
   ]
  },
  {
   "cell_type": "code",
   "execution_count": 12,
   "metadata": {},
   "outputs": [
    {
     "name": "stdout",
     "output_type": "stream",
     "text": [
      "(10, 10)\n"
     ]
    }
   ],
   "source": [
    "import numpy as np\n",
    "\n",
    "X, Y, _, _, _ = it.next(10)\n",
    "shape = Y.shape\n",
    "np.random.seed(1)\n",
    "noise = np.random.binomial(1, 0.1, shape)\n",
    "Y_noise = Y + noise\n",
    "\n",
    "print(shape)\n"
   ]
  },
  {
   "cell_type": "code",
   "execution_count": 28,
   "metadata": {},
   "outputs": [
    {
     "name": "stdout",
     "output_type": "stream",
     "text": [
      "[1, 44, 69, 12, 28, 17, 43, 70, 55, 51]\n",
      "[1, 44, 69, 12, 28, 17, 43, 70, 55, 51]\n",
      "1.0\n",
      "\n",
      "[ 1 45 37 72 12 56]\n",
      "[ 1 45 37 72 12 56]\n",
      "1.0\n",
      "\n",
      "[ 1 69 48 82 36 27 63 72 70]\n",
      "[ 1 70 48 82 36 27 63 72 70]\n",
      "0.8888888888888888\n",
      "\n",
      "[ 1 47 55 70 68 56 41 58]\n",
      "[ 1 47 56 70 68 56 41 58]\n",
      "0.875\n",
      "\n",
      "[ 1 27 69 41 85 12 58 12 70]\n",
      "[]\n",
      "0.0\n",
      "\n",
      "[ 1 49 58 72 69 80 29 36 85]\n",
      "[ 1 49 58 72 69 80 29 36 85]\n",
      "1.0\n",
      "\n",
      "[ 1 71 33 68 51]\n",
      "[ 1 71 33 68 51]\n",
      "1.0\n",
      "\n",
      "[ 1 55 13 29 58 36]\n",
      "[]\n",
      "0.0\n",
      "\n",
      "[1, 55, 4, 56, 12, 55, 41, 71, 12, 58]\n",
      "[1, 55, 4, 56, 12, 55, 41, 72, 12, 58]\n",
      "0.9\n",
      "\n",
      "[ 1 44 21 28 61 85]\n",
      "[1, 45, 21, 28, 61, 85, 3, 0, 0, 0]\n",
      "0.625\n",
      "\n"
     ]
    }
   ],
   "source": [
    "from difflib import SequenceMatcher\n",
    "\n",
    "\n",
    "def evaluate(A, B, end_code=2):\n",
    "    assert A.shape == B.shape\n",
    "    \n",
    "    n_examples = 0\n",
    "    correct_examples = 0\n",
    "    similarity_scores = []\n",
    "    \n",
    "    zipped = zip(A, B)\n",
    "    for a_raw, b_raw in zipped:\n",
    "        a = clean_end(a_raw, end_code)\n",
    "        b = clean_end(b_raw, end_code)\n",
    "\n",
    "        \n",
    "        n_examples += 1\n",
    "        sm = SequenceMatcher(a=a, b=b)\n",
    "        similarity = sm.ratio()\n",
    "        similarity_scores.append(similarity)\n",
    "        if similarity == 1:\n",
    "            correct_examples += 1\n",
    "            \n",
    "        print(a)\n",
    "        print(b)\n",
    "        print(similarity)\n",
    "        print()\n",
    "        \n",
    "def clean_end(a, token):\n",
    "    try:\n",
    "        idx = list(a).index(token)\n",
    "        return a[:idx]\n",
    "    except ValueError:\n",
    "        return list(a)\n",
    "\n",
    "evaluate(Y, Y_noise)"
   ]
  },
  {
   "cell_type": "code",
   "execution_count": null,
   "metadata": {},
   "outputs": [],
   "source": []
  }
 ],
 "metadata": {
  "kernelspec": {
   "display_name": "Python 3",
   "language": "python",
   "name": "python3"
  },
  "language_info": {
   "codemirror_mode": {
    "name": "ipython",
    "version": 3
   },
   "file_extension": ".py",
   "mimetype": "text/x-python",
   "name": "python",
   "nbconvert_exporter": "python",
   "pygments_lexer": "ipython3",
   "version": "3.6.5"
  }
 },
 "nbformat": 4,
 "nbformat_minor": 2
}
